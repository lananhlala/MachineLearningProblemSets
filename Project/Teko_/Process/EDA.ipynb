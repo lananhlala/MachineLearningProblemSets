{
 "metadata": {
  "language_info": {
   "codemirror_mode": {
    "name": "ipython",
    "version": 3
   },
   "file_extension": ".py",
   "mimetype": "text/x-python",
   "name": "python",
   "nbconvert_exporter": "python",
   "pygments_lexer": "ipython3",
   "version": "3.7.6-final"
  },
  "orig_nbformat": 2,
  "kernelspec": {
   "name": "Python 3.7.6 64-bit",
   "display_name": "Python 3.7.6 64-bit",
   "metadata": {
    "interpreter": {
     "hash": "7f2dcf1d125493348cccf1ae2de68f791ab3bc9e1341fd8e5bb01552f7645ce1"
    }
   }
  }
 },
 "nbformat": 4,
 "nbformat_minor": 2,
 "cells": [
  {
   "cell_type": "code",
   "execution_count": 4,
   "metadata": {},
   "outputs": [],
   "source": [
    "import os\n",
    "import pandas as pd \n",
    "import numpy as np "
   ]
  },
  {
   "cell_type": "code",
   "execution_count": 3,
   "metadata": {},
   "outputs": [
    {
     "output_type": "execute_result",
     "data": {
      "text/plain": [
       "       product_id                                            content  \\\n",
       "0        58441480  Giao hàng nhanh , sách đẹp .Giao hôm qua hn Ti...   \n",
       "1        58441480  Nội dung hay, Phụ huynh nên đọc để định hướng ...   \n",
       "2        58441480  Sách hay dành cho cả người lớn và trẻ nhỏ. Hìn...   \n",
       "3        58441480                   sách quá đẹp đi! nội dung rất ok   \n",
       "4        58441480                                           Sách đẹp   \n",
       "...           ...                                                ...   \n",
       "30656     1006229                                                NaN   \n",
       "30657     1006229                                                NaN   \n",
       "30658     1006229                                                NaN   \n",
       "30659     1006229                                                NaN   \n",
       "30660     1006229  sách đẹp, nội dung sách hay. Bé rất thích học....   \n",
       "\n",
       "       customer_id         user_name  stars  comment_id  \n",
       "0          7201105          Hải Phạm      5     4702781  \n",
       "1           823195      Trang Nguyen      5     4940437  \n",
       "2          6927758          Luyen Do      4     4690057  \n",
       "3            73375          Hiểu Mai      5     4645307  \n",
       "4          7103521  Nguyễn Xuân Hùng      5     4627799  \n",
       "...            ...               ...    ...         ...  \n",
       "30656      1358220   Nguyễn Kim Hồng      5     3800726  \n",
       "30657      5356374         Tuyến Bùi      5     3713537  \n",
       "30658     15959760           Hoa Dng      4     3691786  \n",
       "30659      6849384     Zalo Ngơ Ngáo      5     3683560  \n",
       "30660      6033375    Nguyễn Mỹ Hiên      5     1923843  \n",
       "\n",
       "[30661 rows x 6 columns]"
      ],
      "text/html": "<div>\n<style scoped>\n    .dataframe tbody tr th:only-of-type {\n        vertical-align: middle;\n    }\n\n    .dataframe tbody tr th {\n        vertical-align: top;\n    }\n\n    .dataframe thead th {\n        text-align: right;\n    }\n</style>\n<table border=\"1\" class=\"dataframe\">\n  <thead>\n    <tr style=\"text-align: right;\">\n      <th></th>\n      <th>product_id</th>\n      <th>content</th>\n      <th>customer_id</th>\n      <th>user_name</th>\n      <th>stars</th>\n      <th>comment_id</th>\n    </tr>\n  </thead>\n  <tbody>\n    <tr>\n      <th>0</th>\n      <td>58441480</td>\n      <td>Giao hàng nhanh , sách đẹp .Giao hôm qua hn Ti...</td>\n      <td>7201105</td>\n      <td>Hải Phạm</td>\n      <td>5</td>\n      <td>4702781</td>\n    </tr>\n    <tr>\n      <th>1</th>\n      <td>58441480</td>\n      <td>Nội dung hay, Phụ huynh nên đọc để định hướng ...</td>\n      <td>823195</td>\n      <td>Trang Nguyen</td>\n      <td>5</td>\n      <td>4940437</td>\n    </tr>\n    <tr>\n      <th>2</th>\n      <td>58441480</td>\n      <td>Sách hay dành cho cả người lớn và trẻ nhỏ. Hìn...</td>\n      <td>6927758</td>\n      <td>Luyen Do</td>\n      <td>4</td>\n      <td>4690057</td>\n    </tr>\n    <tr>\n      <th>3</th>\n      <td>58441480</td>\n      <td>sách quá đẹp đi! nội dung rất ok</td>\n      <td>73375</td>\n      <td>Hiểu Mai</td>\n      <td>5</td>\n      <td>4645307</td>\n    </tr>\n    <tr>\n      <th>4</th>\n      <td>58441480</td>\n      <td>Sách đẹp</td>\n      <td>7103521</td>\n      <td>Nguyễn Xuân Hùng</td>\n      <td>5</td>\n      <td>4627799</td>\n    </tr>\n    <tr>\n      <th>...</th>\n      <td>...</td>\n      <td>...</td>\n      <td>...</td>\n      <td>...</td>\n      <td>...</td>\n      <td>...</td>\n    </tr>\n    <tr>\n      <th>30656</th>\n      <td>1006229</td>\n      <td>NaN</td>\n      <td>1358220</td>\n      <td>Nguyễn Kim Hồng</td>\n      <td>5</td>\n      <td>3800726</td>\n    </tr>\n    <tr>\n      <th>30657</th>\n      <td>1006229</td>\n      <td>NaN</td>\n      <td>5356374</td>\n      <td>Tuyến Bùi</td>\n      <td>5</td>\n      <td>3713537</td>\n    </tr>\n    <tr>\n      <th>30658</th>\n      <td>1006229</td>\n      <td>NaN</td>\n      <td>15959760</td>\n      <td>Hoa Dng</td>\n      <td>4</td>\n      <td>3691786</td>\n    </tr>\n    <tr>\n      <th>30659</th>\n      <td>1006229</td>\n      <td>NaN</td>\n      <td>6849384</td>\n      <td>Zalo Ngơ Ngáo</td>\n      <td>5</td>\n      <td>3683560</td>\n    </tr>\n    <tr>\n      <th>30660</th>\n      <td>1006229</td>\n      <td>sách đẹp, nội dung sách hay. Bé rất thích học....</td>\n      <td>6033375</td>\n      <td>Nguyễn Mỹ Hiên</td>\n      <td>5</td>\n      <td>1923843</td>\n    </tr>\n  </tbody>\n</table>\n<p>30661 rows × 6 columns</p>\n</div>"
     },
     "metadata": {},
     "execution_count": 3
    }
   ],
   "source": [
    "comment = pd.read_csv('../MobileCommentCrawler/comment/tiki-c393.csv')\n",
    "comment"
   ]
  },
  {
   "cell_type": "code",
   "execution_count": 10,
   "metadata": {},
   "outputs": [],
   "source": [
    "path = '../MobileCommentCrawler/comment/'"
   ]
  },
  {
   "cell_type": "code",
   "execution_count": 11,
   "metadata": {},
   "outputs": [],
   "source": [
    "for _, _, f in os.walk('../MobileCommentCrawler/comment'):\n",
    "    for file_ in f:\n",
    "        if f == 'tiki-c393.csv':\n",
    "            pass\n",
    "        else:\n",
    "            comment_ = pd.read_csv(path+file_)\n",
    "            comment = pd.concat([comment, comment_], ignore_index=True)"
   ]
  },
  {
   "cell_type": "code",
   "execution_count": 12,
   "metadata": {},
   "outputs": [
    {
     "output_type": "execute_result",
     "data": {
      "text/plain": [
       "(307623, 6)"
      ]
     },
     "metadata": {},
     "execution_count": 12
    }
   ],
   "source": [
    "comment.shape"
   ]
  },
  {
   "cell_type": "code",
   "execution_count": 14,
   "metadata": {},
   "outputs": [
    {
     "output_type": "execute_result",
     "data": {
      "text/plain": [
       "(267742, 6)"
      ]
     },
     "metadata": {},
     "execution_count": 14
    }
   ],
   "source": [
    "comment.drop_duplicates(inplace=True)\n",
    "comment.shape"
   ]
  },
  {
   "cell_type": "code",
   "execution_count": 16,
   "metadata": {},
   "outputs": [],
   "source": [
    "comment.to_csv('../MobileCommentCrawler/comment/all_rating.csv', index=False)"
   ]
  },
  {
   "cell_type": "code",
   "execution_count": 18,
   "metadata": {},
   "outputs": [
    {
     "output_type": "execute_result",
     "data": {
      "text/plain": [
       "       Unnamed: 0        id            sku  \\\n",
       "0               0  58390336  3380735508079   \n",
       "1               1   1664525  2147399986992   \n",
       "2               2  55573620  6752050391860   \n",
       "3               3  24889348  3747885152000   \n",
       "4               4  37667006  5950833882104   \n",
       "...           ...       ...            ...   \n",
       "12449        4346    508802  2458165834943   \n",
       "12450        4347    508826  2450353145374   \n",
       "12451        4348    508891  2454269886208   \n",
       "12452        4349    434787  2457152859105   \n",
       "12453        4350    342125  2458379859862   \n",
       "\n",
       "                                                    name  \\\n",
       "0                                          Python cơ bản   \n",
       "1      Giáo Trình Kỹ Thuật Lập Trình C Căn Bản Và Nân...   \n",
       "2      Giáo Trình Tự Học AutoCAD 2019 Thực Hành Bằng ...   \n",
       "3      Lập trình hướng đối tượng JAVA core dành cho n...   \n",
       "4      Combo Giáo Trình Kỹ Thuật Lập Trình C Căn Bản ...   \n",
       "...                                                  ...   \n",
       "12449                   Tự Học Mathematica Bằng Hình Ảnh   \n",
       "12450  Vẽ Bề Mặt Phức Tạp (Surface) Và Gia Công Khuôn...   \n",
       "12451    Gia Công Khuôn Với Pro Engineer & Rapidform Xor   \n",
       "12452                            Tự Học Nhanh Windows XP   \n",
       "12453                        Tự Học Nhanh Frontpage 2003   \n",
       "\n",
       "                                                 url_key  \\\n",
       "0                                python-co-ban-p58390336   \n",
       "1      giao-trinh-ky-thuat-lap-trinh-c-can-ban-va-nan...   \n",
       "2      giao-trinh-tu-hoc-autocad-2019-thuc-hanh-bang-...   \n",
       "3      lap-trinh-huong-doi-tuong-java-core-danh-cho-n...   \n",
       "4      combo-giao-trinh-ky-thuat-lap-trinh-c-can-ban-...   \n",
       "...                                                  ...   \n",
       "12449           tu-hoc-mathematica-bang-hinh-anh-p508802   \n",
       "12450  ve-be-mat-phuc-tap-surface-va-gia-cong-khuon-v...   \n",
       "12451  gia-cong-khuon-voi-pro-engineer-rapidform-xor-...   \n",
       "12452                    tu-hoc-nhanh-windows-xp-p434787   \n",
       "12453                tu-hoc-nhanh-frontpage-2003-p342125   \n",
       "\n",
       "                                                url_path    type  \\\n",
       "0             python-co-ban-p58390336.html?spid=58390337  simple   \n",
       "1      giao-trinh-ky-thuat-lap-trinh-c-can-ban-va-nan...  simple   \n",
       "2      giao-trinh-tu-hoc-autocad-2019-thuc-hanh-bang-...  simple   \n",
       "3      lap-trinh-huong-doi-tuong-java-core-danh-cho-n...  simple   \n",
       "4      combo-giao-trinh-ky-thuat-lap-trinh-c-can-ban-...  simple   \n",
       "...                                                  ...     ...   \n",
       "12449  tu-hoc-mathematica-bang-hinh-anh-p508802.html?...  simple   \n",
       "12450  ve-be-mat-phuc-tap-surface-va-gia-cong-khuon-v...  simple   \n",
       "12451  gia-cong-khuon-voi-pro-engineer-rapidform-xor-...  simple   \n",
       "12452   tu-hoc-nhanh-windows-xp-p434787.html?spid=139928  simple   \n",
       "12453  tu-hoc-nhanh-frontpage-2003-p342125.html?spid=...  simple   \n",
       "\n",
       "                               book_cover  \\\n",
       "0      {'id': 148966, 'value': 'Bìa mềm'}   \n",
       "1      {'id': 148966, 'value': 'Bìa mềm'}   \n",
       "2      {'id': 148966, 'value': 'Bìa mềm'}   \n",
       "3                                      []   \n",
       "4      {'id': 148966, 'value': 'Bìa mềm'}   \n",
       "...                                   ...   \n",
       "12449  {'id': 148966, 'value': 'Bìa mềm'}   \n",
       "12450  {'id': 148966, 'value': 'Bìa mềm'}   \n",
       "12451  {'id': 148966, 'value': 'Bìa mềm'}   \n",
       "12452  {'id': 148966, 'value': 'Bìa mềm'}   \n",
       "12453  {'id': 148966, 'value': 'Bìa mềm'}   \n",
       "\n",
       "                                       short_description   price  ...  \\\n",
       "0      SÁCH PYTHON CƠ BẢN\\r\\nHiện nay ngôn ngữ lập tr...  125000  ...   \n",
       "1      Giáo trình kỹ thuật lập trình C căn bản và nân...   67500  ...   \n",
       "2      Mục lục:\\r\\nCHƯƠNG 1: BẮT ĐẦU AUTOCAD 2019 \\r\\...  110000  ...   \n",
       "3      I. Đôi điều về tác giả\\r\\nTôi là NEOS.THÀNH (N...  189000  ...   \n",
       "4      Giáo trình kỹ thuật lập trình C căn bản và nân...  223400  ...   \n",
       "...                                                  ...     ...  ...   \n",
       "12449  Tự Học Mathematica Bằng Hình Ảnh\\r\\r\\nMathemat...   24000  ...   \n",
       "12450  Vẽ Bề Mặt Phức Tạp (Surface) Và Gia Công Khuôn...   59340  ...   \n",
       "12451  Gia Công Khuôn Với Pro Engineer &amp; Rapidfor...   56580  ...   \n",
       "12452  Tự Học Nhanh Windows XP\\r\\r\\nCuốn sách Tự học ...   29250  ...   \n",
       "12453  Mục lục sách:\\r\\r\\nBài 1: Giới thiệu chung về ...   20000  ...   \n",
       "\n",
       "                                                 authors  \\\n",
       "0      [{'id': 874123, 'name': ' Bùi Việt Hà', 'slug'...   \n",
       "1      [{'id': 4043, 'name': 'Nhiều Tác Giả', 'slug':...   \n",
       "2      [{'id': 496059, 'name': ' Nhiều Tác Giả', 'slu...   \n",
       "3      [{\"name\": \"Tiki hoàn tiền 111% nếu phát hiện h...   \n",
       "4      [{'id': 4043, 'name': 'Nhiều Tác Giả', 'slug':...   \n",
       "...                                                  ...   \n",
       "12449  [{'id': 50543, 'name': 'TS. Lê Ngọc Bích', 'sl...   \n",
       "12450  [{'id': 50548, 'name': 'Trương Minh Trí - Trần...   \n",
       "12451  [{'id': 4043, 'name': 'Nhiều Tác Giả', 'slug':...   \n",
       "12452  [{'id': 20823, 'name': 'Trí Việt - Hà Thành', ...   \n",
       "12453  [{'id': 14028, 'name': 'WaterPC', 'slug': 'wat...   \n",
       "\n",
       "                                   seller_specifications  \\\n",
       "0      [{\"name\": \"Tiki hoàn tiền 111% nếu phát hiện h...   \n",
       "1      [{\"name\": \"Tiki hoàn tiền 111% nếu phát hiện h...   \n",
       "2      [{\"name\": \"Tiki hoàn tiền 111% nếu phát hiện h...   \n",
       "3      {\"id\": 58162, \"sku\": \"3417060908400\", \"store_i...   \n",
       "4      [{\"name\": \"Tiki hoàn tiền 111% nếu phát hiện h...   \n",
       "...                                                  ...   \n",
       "12449  [{\"name\": \"Tiki hoàn tiền 111% nếu phát hiện h...   \n",
       "12450  [{\"name\": \"Tiki hoàn tiền 111% nếu phát hiện h...   \n",
       "12451  [{\"name\": \"Tiki hoàn tiền 111% nếu phát hiện h...   \n",
       "12452  [{\"name\": \"Tiki hoàn tiền 111% nếu phát hiện h...   \n",
       "12453  [{\"name\": \"Tiki hoàn tiền 111% nếu phát hiện h...   \n",
       "\n",
       "                                          current_seller  \\\n",
       "0      {\"id\": 126889, \"sku\": \"3593863517800\", \"store_...   \n",
       "1      {\"id\": 1, \"sku\": \"1993190153924\", \"store_id\": ...   \n",
       "2      {\"id\": 449, \"sku\": \"2793166993207\", \"store_id\"...   \n",
       "3                                                     []   \n",
       "4      {\"id\": 1, \"sku\": \"3425545657514\", \"store_id\": ...   \n",
       "...                                                  ...   \n",
       "12449  {\"id\": 1, \"sku\": \"3108164053133\", \"store_id\": ...   \n",
       "12450  {\"id\": 1, \"sku\": \"1114060117338\", \"store_id\": ...   \n",
       "12451  {\"id\": 1, \"sku\": \"1114060117390\", \"store_id\": ...   \n",
       "12452  {\"id\": 1, \"sku\": \"8935077058048\", \"store_id\": ...   \n",
       "12453  {\"id\": 1, \"sku\": \"8935212300414\", \"store_id\": ...   \n",
       "\n",
       "                                           other_sellers  \\\n",
       "0                                                     []   \n",
       "1      [{\"id\": 10914, \"name\": \"trungthanh2018\", \"link...   \n",
       "2                                                     []   \n",
       "3      [{\"name\": \"Thông tin chung\", \"attributes\": [{\"...   \n",
       "4      [{\"id\": 10914, \"name\": \"trungthanh2018\", \"link...   \n",
       "...                                                  ...   \n",
       "12449                                                 []   \n",
       "12450  [{\"id\": 53660, \"name\": \"Nhà sách Fahasa\", \"lin...   \n",
       "12451  [{\"id\": 53660, \"name\": \"Nhà sách Fahasa\", \"lin...   \n",
       "12452                                                 []   \n",
       "12453  [{\"id\": 53660, \"name\": \"Nhà sách Fahasa\", \"lin...   \n",
       "\n",
       "                                          specifications  \\\n",
       "0      [{\"name\": \"Thông tin chung\", \"attributes\": [{\"...   \n",
       "1      [{\"name\": \"Thông tin chung\", \"attributes\": [{\"...   \n",
       "2      [{\"name\": \"Thông tin chung\", \"attributes\": [{\"...   \n",
       "3                                                     []   \n",
       "4      [{\"name\": \"Thông tin chung\", \"attributes\": [{\"...   \n",
       "...                                                  ...   \n",
       "12449  [{\"name\": \"Thông tin chung\", \"attributes\": [{\"...   \n",
       "12450  [{\"name\": \"Thông tin chung\", \"attributes\": [{\"...   \n",
       "12451  [{\"name\": \"Thông tin chung\", \"attributes\": [{\"...   \n",
       "12452  [{\"name\": \"Thông tin chung\", \"attributes\": [{\"...   \n",
       "12453  [{\"name\": \"Thông tin chung\", \"attributes\": [{\"...   \n",
       "\n",
       "                                           product_links  \\\n",
       "0                                                     []   \n",
       "1                                                     []   \n",
       "2                                                     []   \n",
       "3      [{\"rule_id\": null, \"type\": \"hotline\", \"name\": ...   \n",
       "4                                                     []   \n",
       "...                                                  ...   \n",
       "12449                                                 []   \n",
       "12450                                                 []   \n",
       "12451                                                 []   \n",
       "12452                                                 []   \n",
       "12453                                                 []   \n",
       "\n",
       "                                 services_and_promotions  \\\n",
       "0      [{\"rule_id\": null, \"type\": \"hotline\", \"name\": ...   \n",
       "1      [{\"rule_id\": null, \"type\": \"hotline\", \"name\": ...   \n",
       "2      [{\"rule_id\": null, \"type\": \"hotline\", \"name\": ...   \n",
       "3      [{\"rule_id\": null, \"type\": \"cashback_tikinow\",...   \n",
       "4      [{\"rule_id\": null, \"type\": \"hotline\", \"name\": ...   \n",
       "...                                                  ...   \n",
       "12449  [{\"rule_id\": null, \"type\": \"hotline\", \"name\": ...   \n",
       "12450  [{\"rule_id\": null, \"type\": \"hotline\", \"name\": ...   \n",
       "12451  [{\"rule_id\": null, \"type\": \"hotline\", \"name\": ...   \n",
       "12452  [{\"rule_id\": null, \"type\": \"hotline\", \"name\": ...   \n",
       "12453  [{\"rule_id\": null, \"type\": \"hotline\", \"name\": ...   \n",
       "\n",
       "                                              promotions  \\\n",
       "0      [{\"rule_id\": null, \"type\": \"cashback_tikinow\",...   \n",
       "1      [{\"rule_id\": null, \"type\": \"cashback_tikinow\",...   \n",
       "2      [{\"rule_id\": null, \"type\": \"cashback_tikinow\",...   \n",
       "3      {\"qty\": 43, \"min_sale_qty\": 1, \"max_sale_qty\":...   \n",
       "4      [{\"rule_id\": null, \"type\": \"cashback_tikinow\",...   \n",
       "...                                                  ...   \n",
       "12449  [{\"rule_id\": null, \"type\": \"cashback_tikinow\",...   \n",
       "12450  [{\"rule_id\": null, \"type\": \"cashback_tikinow\",...   \n",
       "12451  [{\"rule_id\": null, \"type\": \"cashback_tikinow\",...   \n",
       "12452  [{\"rule_id\": null, \"type\": \"cashback_tikinow\",...   \n",
       "12453  [{\"rule_id\": null, \"type\": \"cashback_tikinow\",...   \n",
       "\n",
       "                                              stock_item  \\\n",
       "0      {\"qty\": 5, \"min_sale_qty\": 1, \"max_sale_qty\": ...   \n",
       "1      {\"qty\": 801, \"min_sale_qty\": 1, \"max_sale_qty\"...   \n",
       "2      {\"qty\": 12, \"min_sale_qty\": 1, \"max_sale_qty\":...   \n",
       "3                                                    NaN   \n",
       "4      {\"qty\": 97, \"min_sale_qty\": 1, \"max_sale_qty\":...   \n",
       "...                                                  ...   \n",
       "12449  {\"qty\": 16, \"min_sale_qty\": 1, \"max_sale_qty\":...   \n",
       "12450  {\"qty\": 12, \"min_sale_qty\": 1, \"max_sale_qty\":...   \n",
       "12451  {\"qty\": 4, \"min_sale_qty\": 1, \"max_sale_qty\": ...   \n",
       "12452  {\"qty\": 2, \"min_sale_qty\": 1, \"max_sale_qty\": ...   \n",
       "12453  {\"qty\": 7, \"min_sale_qty\": 1, \"max_sale_qty\": ...   \n",
       "\n",
       "      is_seller_in_chat_whitelist  \n",
       "0                           False  \n",
       "1                           False  \n",
       "2                           False  \n",
       "3                             NaN  \n",
       "4                           False  \n",
       "...                           ...  \n",
       "12449                       False  \n",
       "12450                       False  \n",
       "12451                       False  \n",
       "12452                       False  \n",
       "12453                       False  \n",
       "\n",
       "[12454 rows x 47 columns]"
      ],
      "text/html": "<div>\n<style scoped>\n    .dataframe tbody tr th:only-of-type {\n        vertical-align: middle;\n    }\n\n    .dataframe tbody tr th {\n        vertical-align: top;\n    }\n\n    .dataframe thead th {\n        text-align: right;\n    }\n</style>\n<table border=\"1\" class=\"dataframe\">\n  <thead>\n    <tr style=\"text-align: right;\">\n      <th></th>\n      <th>Unnamed: 0</th>\n      <th>id</th>\n      <th>sku</th>\n      <th>name</th>\n      <th>url_key</th>\n      <th>url_path</th>\n      <th>type</th>\n      <th>book_cover</th>\n      <th>short_description</th>\n      <th>price</th>\n      <th>...</th>\n      <th>authors</th>\n      <th>seller_specifications</th>\n      <th>current_seller</th>\n      <th>other_sellers</th>\n      <th>specifications</th>\n      <th>product_links</th>\n      <th>services_and_promotions</th>\n      <th>promotions</th>\n      <th>stock_item</th>\n      <th>is_seller_in_chat_whitelist</th>\n    </tr>\n  </thead>\n  <tbody>\n    <tr>\n      <th>0</th>\n      <td>0</td>\n      <td>58390336</td>\n      <td>3380735508079</td>\n      <td>Python cơ bản</td>\n      <td>python-co-ban-p58390336</td>\n      <td>python-co-ban-p58390336.html?spid=58390337</td>\n      <td>simple</td>\n      <td>{'id': 148966, 'value': 'Bìa mềm'}</td>\n      <td>SÁCH PYTHON CƠ BẢN\\r\\nHiện nay ngôn ngữ lập tr...</td>\n      <td>125000</td>\n      <td>...</td>\n      <td>[{'id': 874123, 'name': ' Bùi Việt Hà', 'slug'...</td>\n      <td>[{\"name\": \"Tiki hoàn tiền 111% nếu phát hiện h...</td>\n      <td>{\"id\": 126889, \"sku\": \"3593863517800\", \"store_...</td>\n      <td>[]</td>\n      <td>[{\"name\": \"Thông tin chung\", \"attributes\": [{\"...</td>\n      <td>[]</td>\n      <td>[{\"rule_id\": null, \"type\": \"hotline\", \"name\": ...</td>\n      <td>[{\"rule_id\": null, \"type\": \"cashback_tikinow\",...</td>\n      <td>{\"qty\": 5, \"min_sale_qty\": 1, \"max_sale_qty\": ...</td>\n      <td>False</td>\n    </tr>\n    <tr>\n      <th>1</th>\n      <td>1</td>\n      <td>1664525</td>\n      <td>2147399986992</td>\n      <td>Giáo Trình Kỹ Thuật Lập Trình C Căn Bản Và Nân...</td>\n      <td>giao-trinh-ky-thuat-lap-trinh-c-can-ban-va-nan...</td>\n      <td>giao-trinh-ky-thuat-lap-trinh-c-can-ban-va-nan...</td>\n      <td>simple</td>\n      <td>{'id': 148966, 'value': 'Bìa mềm'}</td>\n      <td>Giáo trình kỹ thuật lập trình C căn bản và nân...</td>\n      <td>67500</td>\n      <td>...</td>\n      <td>[{'id': 4043, 'name': 'Nhiều Tác Giả', 'slug':...</td>\n      <td>[{\"name\": \"Tiki hoàn tiền 111% nếu phát hiện h...</td>\n      <td>{\"id\": 1, \"sku\": \"1993190153924\", \"store_id\": ...</td>\n      <td>[{\"id\": 10914, \"name\": \"trungthanh2018\", \"link...</td>\n      <td>[{\"name\": \"Thông tin chung\", \"attributes\": [{\"...</td>\n      <td>[]</td>\n      <td>[{\"rule_id\": null, \"type\": \"hotline\", \"name\": ...</td>\n      <td>[{\"rule_id\": null, \"type\": \"cashback_tikinow\",...</td>\n      <td>{\"qty\": 801, \"min_sale_qty\": 1, \"max_sale_qty\"...</td>\n      <td>False</td>\n    </tr>\n    <tr>\n      <th>2</th>\n      <td>2</td>\n      <td>55573620</td>\n      <td>6752050391860</td>\n      <td>Giáo Trình Tự Học AutoCAD 2019 Thực Hành Bằng ...</td>\n      <td>giao-trinh-tu-hoc-autocad-2019-thuc-hanh-bang-...</td>\n      <td>giao-trinh-tu-hoc-autocad-2019-thuc-hanh-bang-...</td>\n      <td>simple</td>\n      <td>{'id': 148966, 'value': 'Bìa mềm'}</td>\n      <td>Mục lục:\\r\\nCHƯƠNG 1: BẮT ĐẦU AUTOCAD 2019 \\r\\...</td>\n      <td>110000</td>\n      <td>...</td>\n      <td>[{'id': 496059, 'name': ' Nhiều Tác Giả', 'slu...</td>\n      <td>[{\"name\": \"Tiki hoàn tiền 111% nếu phát hiện h...</td>\n      <td>{\"id\": 449, \"sku\": \"2793166993207\", \"store_id\"...</td>\n      <td>[]</td>\n      <td>[{\"name\": \"Thông tin chung\", \"attributes\": [{\"...</td>\n      <td>[]</td>\n      <td>[{\"rule_id\": null, \"type\": \"hotline\", \"name\": ...</td>\n      <td>[{\"rule_id\": null, \"type\": \"cashback_tikinow\",...</td>\n      <td>{\"qty\": 12, \"min_sale_qty\": 1, \"max_sale_qty\":...</td>\n      <td>False</td>\n    </tr>\n    <tr>\n      <th>3</th>\n      <td>3</td>\n      <td>24889348</td>\n      <td>3747885152000</td>\n      <td>Lập trình hướng đối tượng JAVA core dành cho n...</td>\n      <td>lap-trinh-huong-doi-tuong-java-core-danh-cho-n...</td>\n      <td>lap-trinh-huong-doi-tuong-java-core-danh-cho-n...</td>\n      <td>simple</td>\n      <td>[]</td>\n      <td>I. Đôi điều về tác giả\\r\\nTôi là NEOS.THÀNH (N...</td>\n      <td>189000</td>\n      <td>...</td>\n      <td>[{\"name\": \"Tiki hoàn tiền 111% nếu phát hiện h...</td>\n      <td>{\"id\": 58162, \"sku\": \"3417060908400\", \"store_i...</td>\n      <td>[]</td>\n      <td>[{\"name\": \"Thông tin chung\", \"attributes\": [{\"...</td>\n      <td>[]</td>\n      <td>[{\"rule_id\": null, \"type\": \"hotline\", \"name\": ...</td>\n      <td>[{\"rule_id\": null, \"type\": \"cashback_tikinow\",...</td>\n      <td>{\"qty\": 43, \"min_sale_qty\": 1, \"max_sale_qty\":...</td>\n      <td>NaN</td>\n      <td>NaN</td>\n    </tr>\n    <tr>\n      <th>4</th>\n      <td>4</td>\n      <td>37667006</td>\n      <td>5950833882104</td>\n      <td>Combo Giáo Trình Kỹ Thuật Lập Trình C Căn Bản ...</td>\n      <td>combo-giao-trinh-ky-thuat-lap-trinh-c-can-ban-...</td>\n      <td>combo-giao-trinh-ky-thuat-lap-trinh-c-can-ban-...</td>\n      <td>simple</td>\n      <td>{'id': 148966, 'value': 'Bìa mềm'}</td>\n      <td>Giáo trình kỹ thuật lập trình C căn bản và nân...</td>\n      <td>223400</td>\n      <td>...</td>\n      <td>[{'id': 4043, 'name': 'Nhiều Tác Giả', 'slug':...</td>\n      <td>[{\"name\": \"Tiki hoàn tiền 111% nếu phát hiện h...</td>\n      <td>{\"id\": 1, \"sku\": \"3425545657514\", \"store_id\": ...</td>\n      <td>[{\"id\": 10914, \"name\": \"trungthanh2018\", \"link...</td>\n      <td>[{\"name\": \"Thông tin chung\", \"attributes\": [{\"...</td>\n      <td>[]</td>\n      <td>[{\"rule_id\": null, \"type\": \"hotline\", \"name\": ...</td>\n      <td>[{\"rule_id\": null, \"type\": \"cashback_tikinow\",...</td>\n      <td>{\"qty\": 97, \"min_sale_qty\": 1, \"max_sale_qty\":...</td>\n      <td>False</td>\n    </tr>\n    <tr>\n      <th>...</th>\n      <td>...</td>\n      <td>...</td>\n      <td>...</td>\n      <td>...</td>\n      <td>...</td>\n      <td>...</td>\n      <td>...</td>\n      <td>...</td>\n      <td>...</td>\n      <td>...</td>\n      <td>...</td>\n      <td>...</td>\n      <td>...</td>\n      <td>...</td>\n      <td>...</td>\n      <td>...</td>\n      <td>...</td>\n      <td>...</td>\n      <td>...</td>\n      <td>...</td>\n      <td>...</td>\n    </tr>\n    <tr>\n      <th>12449</th>\n      <td>4346</td>\n      <td>508802</td>\n      <td>2458165834943</td>\n      <td>Tự Học Mathematica Bằng Hình Ảnh</td>\n      <td>tu-hoc-mathematica-bang-hinh-anh-p508802</td>\n      <td>tu-hoc-mathematica-bang-hinh-anh-p508802.html?...</td>\n      <td>simple</td>\n      <td>{'id': 148966, 'value': 'Bìa mềm'}</td>\n      <td>Tự Học Mathematica Bằng Hình Ảnh\\r\\r\\nMathemat...</td>\n      <td>24000</td>\n      <td>...</td>\n      <td>[{'id': 50543, 'name': 'TS. Lê Ngọc Bích', 'sl...</td>\n      <td>[{\"name\": \"Tiki hoàn tiền 111% nếu phát hiện h...</td>\n      <td>{\"id\": 1, \"sku\": \"3108164053133\", \"store_id\": ...</td>\n      <td>[]</td>\n      <td>[{\"name\": \"Thông tin chung\", \"attributes\": [{\"...</td>\n      <td>[]</td>\n      <td>[{\"rule_id\": null, \"type\": \"hotline\", \"name\": ...</td>\n      <td>[{\"rule_id\": null, \"type\": \"cashback_tikinow\",...</td>\n      <td>{\"qty\": 16, \"min_sale_qty\": 1, \"max_sale_qty\":...</td>\n      <td>False</td>\n    </tr>\n    <tr>\n      <th>12450</th>\n      <td>4347</td>\n      <td>508826</td>\n      <td>2450353145374</td>\n      <td>Vẽ Bề Mặt Phức Tạp (Surface) Và Gia Công Khuôn...</td>\n      <td>ve-be-mat-phuc-tap-surface-va-gia-cong-khuon-v...</td>\n      <td>ve-be-mat-phuc-tap-surface-va-gia-cong-khuon-v...</td>\n      <td>simple</td>\n      <td>{'id': 148966, 'value': 'Bìa mềm'}</td>\n      <td>Vẽ Bề Mặt Phức Tạp (Surface) Và Gia Công Khuôn...</td>\n      <td>59340</td>\n      <td>...</td>\n      <td>[{'id': 50548, 'name': 'Trương Minh Trí - Trần...</td>\n      <td>[{\"name\": \"Tiki hoàn tiền 111% nếu phát hiện h...</td>\n      <td>{\"id\": 1, \"sku\": \"1114060117338\", \"store_id\": ...</td>\n      <td>[{\"id\": 53660, \"name\": \"Nhà sách Fahasa\", \"lin...</td>\n      <td>[{\"name\": \"Thông tin chung\", \"attributes\": [{\"...</td>\n      <td>[]</td>\n      <td>[{\"rule_id\": null, \"type\": \"hotline\", \"name\": ...</td>\n      <td>[{\"rule_id\": null, \"type\": \"cashback_tikinow\",...</td>\n      <td>{\"qty\": 12, \"min_sale_qty\": 1, \"max_sale_qty\":...</td>\n      <td>False</td>\n    </tr>\n    <tr>\n      <th>12451</th>\n      <td>4348</td>\n      <td>508891</td>\n      <td>2454269886208</td>\n      <td>Gia Công Khuôn Với Pro Engineer &amp; Rapidform Xor</td>\n      <td>gia-cong-khuon-voi-pro-engineer-rapidform-xor-...</td>\n      <td>gia-cong-khuon-voi-pro-engineer-rapidform-xor-...</td>\n      <td>simple</td>\n      <td>{'id': 148966, 'value': 'Bìa mềm'}</td>\n      <td>Gia Công Khuôn Với Pro Engineer &amp;amp; Rapidfor...</td>\n      <td>56580</td>\n      <td>...</td>\n      <td>[{'id': 4043, 'name': 'Nhiều Tác Giả', 'slug':...</td>\n      <td>[{\"name\": \"Tiki hoàn tiền 111% nếu phát hiện h...</td>\n      <td>{\"id\": 1, \"sku\": \"1114060117390\", \"store_id\": ...</td>\n      <td>[{\"id\": 53660, \"name\": \"Nhà sách Fahasa\", \"lin...</td>\n      <td>[{\"name\": \"Thông tin chung\", \"attributes\": [{\"...</td>\n      <td>[]</td>\n      <td>[{\"rule_id\": null, \"type\": \"hotline\", \"name\": ...</td>\n      <td>[{\"rule_id\": null, \"type\": \"cashback_tikinow\",...</td>\n      <td>{\"qty\": 4, \"min_sale_qty\": 1, \"max_sale_qty\": ...</td>\n      <td>False</td>\n    </tr>\n    <tr>\n      <th>12452</th>\n      <td>4349</td>\n      <td>434787</td>\n      <td>2457152859105</td>\n      <td>Tự Học Nhanh Windows XP</td>\n      <td>tu-hoc-nhanh-windows-xp-p434787</td>\n      <td>tu-hoc-nhanh-windows-xp-p434787.html?spid=139928</td>\n      <td>simple</td>\n      <td>{'id': 148966, 'value': 'Bìa mềm'}</td>\n      <td>Tự Học Nhanh Windows XP\\r\\r\\nCuốn sách Tự học ...</td>\n      <td>29250</td>\n      <td>...</td>\n      <td>[{'id': 20823, 'name': 'Trí Việt - Hà Thành', ...</td>\n      <td>[{\"name\": \"Tiki hoàn tiền 111% nếu phát hiện h...</td>\n      <td>{\"id\": 1, \"sku\": \"8935077058048\", \"store_id\": ...</td>\n      <td>[]</td>\n      <td>[{\"name\": \"Thông tin chung\", \"attributes\": [{\"...</td>\n      <td>[]</td>\n      <td>[{\"rule_id\": null, \"type\": \"hotline\", \"name\": ...</td>\n      <td>[{\"rule_id\": null, \"type\": \"cashback_tikinow\",...</td>\n      <td>{\"qty\": 2, \"min_sale_qty\": 1, \"max_sale_qty\": ...</td>\n      <td>False</td>\n    </tr>\n    <tr>\n      <th>12453</th>\n      <td>4350</td>\n      <td>342125</td>\n      <td>2458379859862</td>\n      <td>Tự Học Nhanh Frontpage 2003</td>\n      <td>tu-hoc-nhanh-frontpage-2003-p342125</td>\n      <td>tu-hoc-nhanh-frontpage-2003-p342125.html?spid=...</td>\n      <td>simple</td>\n      <td>{'id': 148966, 'value': 'Bìa mềm'}</td>\n      <td>Mục lục sách:\\r\\r\\nBài 1: Giới thiệu chung về ...</td>\n      <td>20000</td>\n      <td>...</td>\n      <td>[{'id': 14028, 'name': 'WaterPC', 'slug': 'wat...</td>\n      <td>[{\"name\": \"Tiki hoàn tiền 111% nếu phát hiện h...</td>\n      <td>{\"id\": 1, \"sku\": \"8935212300414\", \"store_id\": ...</td>\n      <td>[{\"id\": 53660, \"name\": \"Nhà sách Fahasa\", \"lin...</td>\n      <td>[{\"name\": \"Thông tin chung\", \"attributes\": [{\"...</td>\n      <td>[]</td>\n      <td>[{\"rule_id\": null, \"type\": \"hotline\", \"name\": ...</td>\n      <td>[{\"rule_id\": null, \"type\": \"cashback_tikinow\",...</td>\n      <td>{\"qty\": 7, \"min_sale_qty\": 1, \"max_sale_qty\": ...</td>\n      <td>False</td>\n    </tr>\n  </tbody>\n</table>\n<p>12454 rows × 47 columns</p>\n</div>"
     },
     "metadata": {},
     "execution_count": 18
    }
   ],
   "source": [
    "books = pd.read_csv('../final_content_book_tiki.csv')\n",
    "books"
   ]
  },
  {
   "cell_type": "code",
   "execution_count": 19,
   "metadata": {},
   "outputs": [
    {
     "output_type": "execute_result",
     "data": {
      "text/plain": [
       "(12121, 47)"
      ]
     },
     "metadata": {},
     "execution_count": 19
    }
   ],
   "source": [
    "books.drop_duplicates(inplace=True)\n",
    "books.shape"
   ]
  },
  {
   "cell_type": "code",
   "execution_count": 20,
   "metadata": {},
   "outputs": [],
   "source": [
    "books.to_csv('../all_books.csv', index=False)"
   ]
  },
  {
   "cell_type": "code",
   "execution_count": 26,
   "metadata": {},
   "outputs": [
    {
     "output_type": "execute_result",
     "data": {
      "text/plain": [
       "Index(['Unnamed: 0', 'id', 'sku', 'name', 'url_key', 'url_path', 'type',\n",
       "       'book_cover', 'short_description', 'price', 'list_price', 'price_usd',\n",
       "       'badges', 'discount', 'discount_rate', 'rating_average', 'review_count',\n",
       "       'order_count', 'favourite_count', 'thumbnail_url', 'has_ebook',\n",
       "       'inventory_status', 'is_visible', 'productset_group_name', 'is_fresh',\n",
       "       'is_flower', 'is_gift_card', 'inventory', 'data_version', 'categories',\n",
       "       'meta_title', 'meta_description', 'meta_keywords', 'liked',\n",
       "       'rating_summary', 'description', 'publisher', 'authors',\n",
       "       'seller_specifications', 'current_seller', 'other_sellers',\n",
       "       'specifications', 'product_links', 'services_and_promotions',\n",
       "       'promotions', 'stock_item', 'is_seller_in_chat_whitelist'],\n",
       "      dtype='object')"
      ]
     },
     "metadata": {},
     "execution_count": 26
    }
   ],
   "source": [
    "books.columns"
   ]
  },
  {
   "cell_type": "code",
   "execution_count": 28,
   "metadata": {},
   "outputs": [
    {
     "output_type": "stream",
     "name": "stdout",
     "text": [
      "<class 'pandas.core.frame.DataFrame'>\nInt64Index: 12121 entries, 0 to 12453\nData columns (total 47 columns):\n #   Column                       Non-Null Count  Dtype  \n---  ------                       --------------  -----  \n 0   Unnamed: 0                   12121 non-null  int64  \n 1   id                           12121 non-null  int64  \n 2   sku                          12121 non-null  int64  \n 3   name                         12121 non-null  object \n 4   url_key                      12121 non-null  object \n 5   url_path                     12121 non-null  object \n 6   type                         12121 non-null  object \n 7   book_cover                   11530 non-null  object \n 8   short_description            12118 non-null  object \n 9   price                        12121 non-null  int64  \n 10  list_price                   12121 non-null  int64  \n 11  price_usd                    12121 non-null  float64\n 12  badges                       12121 non-null  object \n 13  discount                     12121 non-null  int64  \n 14  discount_rate                12121 non-null  int64  \n 15  rating_average               12121 non-null  float64\n 16  review_count                 12121 non-null  int64  \n 17  order_count                  12121 non-null  int64  \n 18  favourite_count              12121 non-null  int64  \n 19  thumbnail_url                12121 non-null  object \n 20  has_ebook                    12121 non-null  bool   \n 21  inventory_status             12121 non-null  object \n 22  is_visible                   12121 non-null  bool   \n 23  productset_group_name        12073 non-null  object \n 24  is_fresh                     12121 non-null  bool   \n 25  is_flower                    12121 non-null  object \n 26  is_gift_card                 12121 non-null  bool   \n 27  inventory                    12121 non-null  object \n 28  data_version                 12115 non-null  float64\n 29  categories                   12121 non-null  object \n 30  meta_title                   4447 non-null   object \n 31  meta_description             1099 non-null   object \n 32  meta_keywords                438 non-null    object \n 33  liked                        12115 non-null  object \n 34  rating_summary               12121 non-null  object \n 35  description                  12121 non-null  object \n 36  publisher                    12115 non-null  object \n 37  authors                      12121 non-null  object \n 38  seller_specifications        12121 non-null  object \n 39  current_seller               12121 non-null  object \n 40  other_sellers                12121 non-null  object \n 41  specifications               12121 non-null  object \n 42  product_links                12121 non-null  object \n 43  services_and_promotions      12121 non-null  object \n 44  promotions                   12121 non-null  object \n 45  stock_item                   10620 non-null  object \n 46  is_seller_in_chat_whitelist  10620 non-null  object \ndtypes: bool(4), float64(3), int64(10), object(30)\nmemory usage: 4.4+ MB\n"
     ]
    }
   ],
   "source": [
    "books.info()"
   ]
  },
  {
   "cell_type": "code",
   "execution_count": null,
   "metadata": {},
   "outputs": [],
   "source": [
    "books.drop(cols=['Unnamed', 'meta_keywords'])"
   ]
  }
 ]
}