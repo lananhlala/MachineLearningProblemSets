{
  "nbformat": 4,
  "nbformat_minor": 0,
  "metadata": {
    "colab": {
      "name": "Bản sao của Lab_1_Python_SQL.ipynb",
      "provenance": [],
      "collapsed_sections": [
        "0bNRYxjEAIYk",
        "9ihN0pi4A8cf"
      ]
    },
    "kernelspec": {
      "name": "python_defaultSpec_1600007173821",
      "display_name": "Python 3.7.6 64-bit"
    }
  },
  "cells": [
    {
      "cell_type": "markdown",
      "metadata": {
        "id": "ljiunBcKlJSQ",
        "colab_type": "text"
      },
      "source": [
        "![](https://i.imgur.com/0AUxkXt.png)"
      ]
    },
    {
      "cell_type": "markdown",
      "metadata": {
        "id": "PgjLTSR7lEqz",
        "colab_type": "text"
      },
      "source": [
        "# Lab 1 - Basic Python & SQL Exercise"
      ]
    },
    {
      "cell_type": "markdown",
      "metadata": {},
      "source": [
        "### ADVANCED PYTHON"
      ]
    },
    {
      "cell_type": "markdown",
      "metadata": {
        "id": "CwvTd0pDIvbd",
        "colab_type": "text"
      },
      "source": [
        "### 3.\n",
        "This problem was asked by Snapchat.\n",
        "\n",
        "Given a list of possibly overlapping intervals, return a new list of intervals where all overlapping intervals have been merged.\n",
        "\n",
        "The input list is not necessarily ordered in any way.\n",
        "\n",
        "For example, given [(1, 3), (5, 8), (4, 10), (20, 25)], you should return [(1, 3), (4, 10), (20, 25)].\n",
        "\n"
      ]
    },
    {
      "cell_type": "code",
      "metadata": {
        "id": "klqM2v2LIvOJ",
        "colab_type": "code",
        "colab": {}
      },
      "source": [
        "# Your code here\n",
        "# @_@"
      ],
      "execution_count": null,
      "outputs": []
    },
    {
      "cell_type": "markdown",
      "metadata": {
        "id": "--ZnlakVIua_",
        "colab_type": "text"
      },
      "source": [
        "### 5.\n",
        "You are given a string. The only operation allowed is to insert characters in the beginning of the string. How many minimum characters are needed to be inserted to make the string a palindrome string\n",
        "\n",
        "Example:\n",
        "Input: ABC\n",
        "Output: 2\n",
        "Input: AACECAAAA\n",
        "Output: 2"
      ]
    },
    {
      "cell_type": "code",
      "metadata": {
        "id": "KhlUz9UEIo9o",
        "colab_type": "code",
        "colab": {},
        "tags": []
      },
      "source": [
        "# Your code here\n",
        "def is_palindrome(s):\n",
        "    return s[::-1] == s\n",
        "\n",
        "def get_nearest_palindrome(s):\n",
        "    if is_palindrome(s):\n",
        "        return s\n",
        "\n",
        "    if s[0] == s[-1]:\n",
        "        return s[0] + get_nearest_palindrome(s[1:-1]) + s[-1]\n",
        "    else:\n",
        "        pal_1 = s[0] + get_nearest_palindrome(s[1:]) + s[0]\n",
        "        pal_2 = s[-1] + get_nearest_palindrome(s[:-1]) + s[-1]\n",
        "\n",
        "        if len(pal_1) > len(pal_2):\n",
        "            return pal_2\n",
        "        elif len(pal_1) < len(pal_2):\n",
        "            return pal_1\n",
        "        return pal_1 if pal_1 < pal_2 else pal_2\n",
        "def min_char_insert_palindrome(s):\n",
        "    new = get_nearest_palindrome(s)\n",
        "    print(new)\n",
        "    return len(new) - len(s)\n",
        "min_char_insert_palindrome('google')"
      ],
      "execution_count": 76,
      "outputs": [
        {
          "output_type": "stream",
          "name": "stdout",
          "text": "elgoogle\n"
        },
        {
          "output_type": "execute_result",
          "data": {
            "text/plain": "2"
          },
          "metadata": {},
          "execution_count": 76
        }
      ]
    },
    {
      "cell_type": "markdown",
      "metadata": {
        "id": "L3YbEdIS5BzQ",
        "colab_type": "text"
      },
      "source": [
        "## Basic SQL\n",
        "\n"
      ]
    },
    {
      "cell_type": "markdown",
      "metadata": {
        "id": "O1P87Ntw_1Xr",
        "colab_type": "text"
      },
      "source": [
        "SQL, or Structured Query Language, is a language designed to allow both technical and non-technical users query, manipulate, and transform data from a **relational database**. And due to its simplicity, SQL databases provide safe and scalable storage for millions of websites and mobile applications.\n",
        "\n",
        "A relational database represents a collection of related (two-dimensional) tables. Each of the tables are similar to an Excel spreadsheet, with a fixed number of named columns (the attributes or properties of the table) and any number of rows of data.\n",
        "\n",
        "For example, if the Department of Motor Vehicles had a database, you might find a table containing all the known vehicles that people in the state are driving. This table might need to store the model name, type, number of wheels, and number of doors of each vehicle for example.\n",
        "\n",
        "| Id | Make/Model | # Wheels | # Door | Type |\n",
        "|:---:|:----------------------------:|:---------------:|:-----------:|:--------:|\n",
        "| 1 | Ford Focus | 4 | 4 | Sedan |\n",
        "| 2 | Tesla Roadster | 4 | 2 | Sports |\n",
        "| 3 | Kawakasi Ninja | 2 | 0 | Motorcycle |\n",
        "| 4 | McLaren Formula 1 | 4 | 0 | Race |\n",
        "| 5 | Testla S | 4 | 4 | Sedan |\n",
        "\n",
        "In such a database, you might find additional related tables containing information such as a list of all registered drivers in the state, the types of driving licenses that can be granted, or even driving violations for each driver.\n",
        "\n",
        "By learning SQL, the goal is to learn how to answer specific questions about this data, like *\"What types of vehicles are on the road have less than four wheels?\"*, or *\"How many models of cars does Tesla produce?\"*, to help us make better decisions down the road.\n",
        "\n"
      ]
    },
    {
      "cell_type": "markdown",
      "metadata": {
        "id": "UFhsNsY2J1jz",
        "colab_type": "text"
      },
      "source": [
        "### Connect to the database\n",
        "\n",
        "![](https://i.imgur.com/kCaiMK5.png)"
      ]
    },
    {
      "cell_type": "markdown",
      "metadata": {
        "id": "2tI-PoQZMKax",
        "colab_type": "text"
      },
      "source": [
        "**Run those cells below**"
      ]
    },
    {
      "cell_type": "code",
      "metadata": {
        "id": "ryXI_zZpJ0NZ",
        "colab_type": "code",
        "colab": {
          "base_uri": "https://localhost:8080/",
          "height": 204
        },
        "outputId": "322a27ae-f5ef-474f-8272-6f778dec76ec",
        "tags": []
      },
      "source": [
        "# Download database\n",
        "import wget\n",
        "wget.download('https://ml101-khanhnguyen.s3-ap-southeast-1.amazonaws.com/devc/chinook.db')"
      ],
      "execution_count": 12,
      "outputs": [
        {
          "output_type": "execute_result",
          "data": {
            "text/plain": "'chinook.db'"
          },
          "metadata": {},
          "execution_count": 12
        }
      ]
    },
    {
      "cell_type": "code",
      "metadata": {
        "id": "NUcv2WLJKEkY",
        "colab_type": "code",
        "colab": {}
      },
      "source": [
        "import sqlite3\n",
        "conn = sqlite3.connect('chinook.db')"
      ],
      "execution_count": 13,
      "outputs": []
    },
    {
      "cell_type": "code",
      "metadata": {
        "id": "3EfkG2icKYAc",
        "colab_type": "code",
        "colab": {
          "base_uri": "https://localhost:8080/",
          "height": 204
        },
        "outputId": "bc14ce98-f78c-4220-eebf-326b6e30f920"
      },
      "source": [
        "import pandas as pd\n",
        "data = pd.read_sql_query('SELECT * FROM albums;', conn)\n",
        "data.head() \n",
        "# head(n) is a function that show n first rows of the data, by default n=5"
      ],
      "execution_count": 14,
      "outputs": [
        {
          "output_type": "execute_result",
          "data": {
            "text/plain": "   AlbumId                                  Title  ArtistId\n0        1  For Those About To Rock We Salute You         1\n1        2                      Balls to the Wall         2\n2        3                      Restless and Wild         2\n3        4                      Let There Be Rock         1\n4        5                               Big Ones         3",
            "text/html": "<div>\n<style scoped>\n    .dataframe tbody tr th:only-of-type {\n        vertical-align: middle;\n    }\n\n    .dataframe tbody tr th {\n        vertical-align: top;\n    }\n\n    .dataframe thead th {\n        text-align: right;\n    }\n</style>\n<table border=\"1\" class=\"dataframe\">\n  <thead>\n    <tr style=\"text-align: right;\">\n      <th></th>\n      <th>AlbumId</th>\n      <th>Title</th>\n      <th>ArtistId</th>\n    </tr>\n  </thead>\n  <tbody>\n    <tr>\n      <th>0</th>\n      <td>1</td>\n      <td>For Those About To Rock We Salute You</td>\n      <td>1</td>\n    </tr>\n    <tr>\n      <th>1</th>\n      <td>2</td>\n      <td>Balls to the Wall</td>\n      <td>2</td>\n    </tr>\n    <tr>\n      <th>2</th>\n      <td>3</td>\n      <td>Restless and Wild</td>\n      <td>2</td>\n    </tr>\n    <tr>\n      <th>3</th>\n      <td>4</td>\n      <td>Let There Be Rock</td>\n      <td>1</td>\n    </tr>\n    <tr>\n      <th>4</th>\n      <td>5</td>\n      <td>Big Ones</td>\n      <td>3</td>\n    </tr>\n  </tbody>\n</table>\n</div>"
          },
          "metadata": {},
          "execution_count": 14
        }
      ]
    },
    {
      "cell_type": "markdown",
      "metadata": {
        "id": "HJhMbP4FlAbe",
        "colab_type": "text"
      },
      "source": [
        "**Your turn**"
      ]
    },
    {
      "cell_type": "code",
      "metadata": {
        "id": "1ZtteUICuoCZ",
        "colab_type": "code",
        "colab": {
          "base_uri": "https://localhost:8080/",
          "height": 359
        },
        "outputId": "77f4d305-b5fc-4224-f649-f5dc68427c9b"
      },
      "source": [
        "# List first 10 tracks and its album's title order by track's name\n",
        "query = ''' SELECT tracks.Name, albums.Title FROM \n",
        "        tracks INNER JOIN albums ON tracks.AlbumId = albums.AlbumId\n",
        "        ORDER BY tracks.Name LIMIT 10'''\n",
        "pd.read_sql_query(query, conn)"
      ],
      "execution_count": 15,
      "outputs": [
        {
          "output_type": "execute_result",
          "data": {
            "text/plain": "                                                Name  \\\n0                                               \"40\"   \n1                                                \"?\"   \n2  \"Eine Kleine Nachtmusik\" Serenade In G, K. 525...   \n3                                            #1 Zero   \n4                                           #9 Dream   \n5                                    'Round Midnight   \n6                         (Anesthesia) Pulling Teeth   \n7                                      (Da Le) Yaleo   \n8            (I Can't Help) Falling In Love With You   \n9                                  (Oh) Pretty Woman   \n\n                                               Title  \n0                                                War  \n1                                     Lost, Season 2  \n2                Sir Neville Marriner: A Celebration  \n3                                       Out Of Exile  \n4  Instant Karma: The Amnesty International Campa...  \n5                 The Essential Miles Davis [Disc 1]  \n6                                       Kill 'Em All  \n7                                       Supernatural  \n8                 UB40 The Best Of - Volume Two [UK]  \n9                                         Diver Down  ",
            "text/html": "<div>\n<style scoped>\n    .dataframe tbody tr th:only-of-type {\n        vertical-align: middle;\n    }\n\n    .dataframe tbody tr th {\n        vertical-align: top;\n    }\n\n    .dataframe thead th {\n        text-align: right;\n    }\n</style>\n<table border=\"1\" class=\"dataframe\">\n  <thead>\n    <tr style=\"text-align: right;\">\n      <th></th>\n      <th>Name</th>\n      <th>Title</th>\n    </tr>\n  </thead>\n  <tbody>\n    <tr>\n      <th>0</th>\n      <td>\"40\"</td>\n      <td>War</td>\n    </tr>\n    <tr>\n      <th>1</th>\n      <td>\"?\"</td>\n      <td>Lost, Season 2</td>\n    </tr>\n    <tr>\n      <th>2</th>\n      <td>\"Eine Kleine Nachtmusik\" Serenade In G, K. 525...</td>\n      <td>Sir Neville Marriner: A Celebration</td>\n    </tr>\n    <tr>\n      <th>3</th>\n      <td>#1 Zero</td>\n      <td>Out Of Exile</td>\n    </tr>\n    <tr>\n      <th>4</th>\n      <td>#9 Dream</td>\n      <td>Instant Karma: The Amnesty International Campa...</td>\n    </tr>\n    <tr>\n      <th>5</th>\n      <td>'Round Midnight</td>\n      <td>The Essential Miles Davis [Disc 1]</td>\n    </tr>\n    <tr>\n      <th>6</th>\n      <td>(Anesthesia) Pulling Teeth</td>\n      <td>Kill 'Em All</td>\n    </tr>\n    <tr>\n      <th>7</th>\n      <td>(Da Le) Yaleo</td>\n      <td>Supernatural</td>\n    </tr>\n    <tr>\n      <th>8</th>\n      <td>(I Can't Help) Falling In Love With You</td>\n      <td>UB40 The Best Of - Volume Two [UK]</td>\n    </tr>\n    <tr>\n      <th>9</th>\n      <td>(Oh) Pretty Woman</td>\n      <td>Diver Down</td>\n    </tr>\n  </tbody>\n</table>\n</div>"
          },
          "metadata": {},
          "execution_count": 15
        }
      ]
    },
    {
      "cell_type": "code",
      "metadata": {
        "id": "jfV3sLSCvun6",
        "colab_type": "code",
        "colab": {
          "base_uri": "https://localhost:8080/",
          "height": 258
        },
        "outputId": "3c85d649-e301-4408-bbd8-161cd50ba970"
      },
      "source": [
        "# List all employees and who they report to\n",
        "query = ''' SELECT e1.EmployeeId, e1.LastName, e1.FirstName, e1.ReportsTo, e2.EmployeeId, e2.LastName, e2.FirstName \n",
        "            FROM employees AS e1 INNER JOIN employees AS e2 ON e1.ReportsTo = e2.EmployeeId'''\n",
        "pd.read_sql_query(query, conn)"
      ],
      "execution_count": 23,
      "outputs": [
        {
          "output_type": "execute_result",
          "data": {
            "text/plain": "   EmployeeId  LastName FirstName  ReportsTo  EmployeeId  LastName FirstName\n0           2   Edwards     Nancy          1           1     Adams    Andrew\n1           3   Peacock      Jane          2           2   Edwards     Nancy\n2           4      Park  Margaret          2           2   Edwards     Nancy\n3           5   Johnson     Steve          2           2   Edwards     Nancy\n4           6  Mitchell   Michael          1           1     Adams    Andrew\n5           7      King    Robert          6           6  Mitchell   Michael\n6           8  Callahan     Laura          6           6  Mitchell   Michael",
            "text/html": "<div>\n<style scoped>\n    .dataframe tbody tr th:only-of-type {\n        vertical-align: middle;\n    }\n\n    .dataframe tbody tr th {\n        vertical-align: top;\n    }\n\n    .dataframe thead th {\n        text-align: right;\n    }\n</style>\n<table border=\"1\" class=\"dataframe\">\n  <thead>\n    <tr style=\"text-align: right;\">\n      <th></th>\n      <th>EmployeeId</th>\n      <th>LastName</th>\n      <th>FirstName</th>\n      <th>ReportsTo</th>\n      <th>EmployeeId</th>\n      <th>LastName</th>\n      <th>FirstName</th>\n    </tr>\n  </thead>\n  <tbody>\n    <tr>\n      <th>0</th>\n      <td>2</td>\n      <td>Edwards</td>\n      <td>Nancy</td>\n      <td>1</td>\n      <td>1</td>\n      <td>Adams</td>\n      <td>Andrew</td>\n    </tr>\n    <tr>\n      <th>1</th>\n      <td>3</td>\n      <td>Peacock</td>\n      <td>Jane</td>\n      <td>2</td>\n      <td>2</td>\n      <td>Edwards</td>\n      <td>Nancy</td>\n    </tr>\n    <tr>\n      <th>2</th>\n      <td>4</td>\n      <td>Park</td>\n      <td>Margaret</td>\n      <td>2</td>\n      <td>2</td>\n      <td>Edwards</td>\n      <td>Nancy</td>\n    </tr>\n    <tr>\n      <th>3</th>\n      <td>5</td>\n      <td>Johnson</td>\n      <td>Steve</td>\n      <td>2</td>\n      <td>2</td>\n      <td>Edwards</td>\n      <td>Nancy</td>\n    </tr>\n    <tr>\n      <th>4</th>\n      <td>6</td>\n      <td>Mitchell</td>\n      <td>Michael</td>\n      <td>1</td>\n      <td>1</td>\n      <td>Adams</td>\n      <td>Andrew</td>\n    </tr>\n    <tr>\n      <th>5</th>\n      <td>7</td>\n      <td>King</td>\n      <td>Robert</td>\n      <td>6</td>\n      <td>6</td>\n      <td>Mitchell</td>\n      <td>Michael</td>\n    </tr>\n    <tr>\n      <th>6</th>\n      <td>8</td>\n      <td>Callahan</td>\n      <td>Laura</td>\n      <td>6</td>\n      <td>6</td>\n      <td>Mitchell</td>\n      <td>Michael</td>\n    </tr>\n  </tbody>\n</table>\n</div>"
          },
          "metadata": {},
          "execution_count": 23
        }
      ]
    },
    {
      "cell_type": "code",
      "metadata": {
        "id": "tL_UWgYYj55T",
        "colab_type": "code",
        "colab": {}
      },
      "source": [
        "# List the first five customers order by their supporter's first name in descending order\n",
        "query = ''' SELECT customers.FirstName, customers.LastName, customers.SupportRepId, employees.EmployeeId, employees.FirstName\n",
        "            FROM customers INNER JOIN employees ON customers.SupportRepId = employees.EmployeeId \n",
        "            ORDER BY employees.FirstName DESC LIMIT 5'''\n",
        "pd.read_sql_query(query, conn)"
      ],
      "execution_count": 54,
      "outputs": [
        {
          "output_type": "execute_result",
          "data": {
            "text/plain": "   FirstName LastName  SupportRepId  EmployeeId FirstName\n0     Leonie   Köhler             5           5     Steve\n1     Helena     Holý             5           5     Steve\n2     Astrid   Gruber             5           5     Steve\n3  Alexandre    Rocha             5           5     Steve\n4       Mark  Philips             5           5     Steve",
            "text/html": "<div>\n<style scoped>\n    .dataframe tbody tr th:only-of-type {\n        vertical-align: middle;\n    }\n\n    .dataframe tbody tr th {\n        vertical-align: top;\n    }\n\n    .dataframe thead th {\n        text-align: right;\n    }\n</style>\n<table border=\"1\" class=\"dataframe\">\n  <thead>\n    <tr style=\"text-align: right;\">\n      <th></th>\n      <th>FirstName</th>\n      <th>LastName</th>\n      <th>SupportRepId</th>\n      <th>EmployeeId</th>\n      <th>FirstName</th>\n    </tr>\n  </thead>\n  <tbody>\n    <tr>\n      <th>0</th>\n      <td>Leonie</td>\n      <td>Köhler</td>\n      <td>5</td>\n      <td>5</td>\n      <td>Steve</td>\n    </tr>\n    <tr>\n      <th>1</th>\n      <td>Helena</td>\n      <td>Holý</td>\n      <td>5</td>\n      <td>5</td>\n      <td>Steve</td>\n    </tr>\n    <tr>\n      <th>2</th>\n      <td>Astrid</td>\n      <td>Gruber</td>\n      <td>5</td>\n      <td>5</td>\n      <td>Steve</td>\n    </tr>\n    <tr>\n      <th>3</th>\n      <td>Alexandre</td>\n      <td>Rocha</td>\n      <td>5</td>\n      <td>5</td>\n      <td>Steve</td>\n    </tr>\n    <tr>\n      <th>4</th>\n      <td>Mark</td>\n      <td>Philips</td>\n      <td>5</td>\n      <td>5</td>\n      <td>Steve</td>\n    </tr>\n  </tbody>\n</table>\n</div>"
          },
          "metadata": {},
          "execution_count": 54
        }
      ]
    },
    {
      "cell_type": "markdown",
      "metadata": {
        "id": "6MAT_K1DzWlZ",
        "colab_type": "text"
      },
      "source": [
        "### OUTER JOINS\n",
        "\n",
        "Depending on how you want to analyze the data, the INNER JOIN we used last lesson might not be sufficient because the resulting table only contains data that belongs in both of the tables.\n",
        "\n",
        "If the two tables have asymmetric data, which can easily happen when data is entered in different stages, then we would have to use a LEFT JOIN, RIGHT JOIN or FULL JOIN instead to ensure that the data you need is not left out of the results.\n",
        "\n",
        "```\n",
        "SELECT column, another_column, …\n",
        "FROM mytable\n",
        "INNER/LEFT/RIGHT/FULL JOIN another_table \n",
        "    ON mytable.id = another_table.matching_id\n",
        "WHERE condition(s)\n",
        "ORDER BY column, … ASC/DESC\n",
        "LIMIT num_limit OFFSET num_offset;\n",
        "```\n",
        "\n",
        "Sometimes, it's not possible to avoid **NULL** values. In these case, you can test a column for **NULL** values in a WHERE clause by using either the **IS NULL** or **IS NOT NULL** constraint.\n",
        "\n",
        "```\n",
        "SELECT column, another_column, …\n",
        "FROM mytable\n",
        "WHERE column IS/IS NOT NULL\n",
        "AND/OR another_condition\n",
        "AND/OR …;\n",
        "```"
      ]
    },
    {
      "cell_type": "code",
      "metadata": {
        "id": "I4dCP1Bk31ch",
        "colab_type": "code",
        "colab": {
          "base_uri": "https://localhost:8080/",
          "height": 419
        },
        "outputId": "dd47bdd7-e712-4a16-facb-44a5ee1c08c9"
      },
      "source": [
        "# Find all tracks that couldn't be sold (null invoice_items)\n",
        "query1 = \"\"\" \n",
        "        SELECT tracks.TrackId, tracks.Name, invoice_items.TrackId AS invoice_items_TrackId\n",
        "        FROM tracks LEFT JOIN invoice_items\n",
        "        ON tracks.TrackId = invoice_items.TrackId\n",
        "        WHERE invoice_items.TrackId IS NULL\n",
        "        \"\"\"\n",
        "pd.read_sql_query(query1, conn)"
      ],
      "execution_count": 29,
      "outputs": [
        {
          "output_type": "execute_result",
          "data": {
            "text/plain": "      TrackId                                               Name  \\\n0           7                                    Let's Get It Up   \n1          11                                             C.O.D.   \n2          17                                  Let There Be Rock   \n3          18                                     Bad Boy Boogie   \n4          22                                  Whole Lotta Rosie   \n...       ...                                                ...   \n1514     3497                                    Erlkonig, D.328   \n1515     3498  Concerto for Violin, Strings and Continuo in G...   \n1516     3501               L'orfeo, Act 3, Sinfonia (Orchestra)   \n1517     3502  Quintet for Horn, Violin, 2 Violas, and Cello ...   \n1518     3503                                      Koyaanisqatsi   \n\n     invoice_items_TrackId  \n0                     None  \n1                     None  \n2                     None  \n3                     None  \n4                     None  \n...                    ...  \n1514                  None  \n1515                  None  \n1516                  None  \n1517                  None  \n1518                  None  \n\n[1519 rows x 3 columns]",
            "text/html": "<div>\n<style scoped>\n    .dataframe tbody tr th:only-of-type {\n        vertical-align: middle;\n    }\n\n    .dataframe tbody tr th {\n        vertical-align: top;\n    }\n\n    .dataframe thead th {\n        text-align: right;\n    }\n</style>\n<table border=\"1\" class=\"dataframe\">\n  <thead>\n    <tr style=\"text-align: right;\">\n      <th></th>\n      <th>TrackId</th>\n      <th>Name</th>\n      <th>invoice_items_TrackId</th>\n    </tr>\n  </thead>\n  <tbody>\n    <tr>\n      <th>0</th>\n      <td>7</td>\n      <td>Let's Get It Up</td>\n      <td>None</td>\n    </tr>\n    <tr>\n      <th>1</th>\n      <td>11</td>\n      <td>C.O.D.</td>\n      <td>None</td>\n    </tr>\n    <tr>\n      <th>2</th>\n      <td>17</td>\n      <td>Let There Be Rock</td>\n      <td>None</td>\n    </tr>\n    <tr>\n      <th>3</th>\n      <td>18</td>\n      <td>Bad Boy Boogie</td>\n      <td>None</td>\n    </tr>\n    <tr>\n      <th>4</th>\n      <td>22</td>\n      <td>Whole Lotta Rosie</td>\n      <td>None</td>\n    </tr>\n    <tr>\n      <th>...</th>\n      <td>...</td>\n      <td>...</td>\n      <td>...</td>\n    </tr>\n    <tr>\n      <th>1514</th>\n      <td>3497</td>\n      <td>Erlkonig, D.328</td>\n      <td>None</td>\n    </tr>\n    <tr>\n      <th>1515</th>\n      <td>3498</td>\n      <td>Concerto for Violin, Strings and Continuo in G...</td>\n      <td>None</td>\n    </tr>\n    <tr>\n      <th>1516</th>\n      <td>3501</td>\n      <td>L'orfeo, Act 3, Sinfonia (Orchestra)</td>\n      <td>None</td>\n    </tr>\n    <tr>\n      <th>1517</th>\n      <td>3502</td>\n      <td>Quintet for Horn, Violin, 2 Violas, and Cello ...</td>\n      <td>None</td>\n    </tr>\n    <tr>\n      <th>1518</th>\n      <td>3503</td>\n      <td>Koyaanisqatsi</td>\n      <td>None</td>\n    </tr>\n  </tbody>\n</table>\n<p>1519 rows × 3 columns</p>\n</div>"
          },
          "metadata": {},
          "execution_count": 29
        }
      ]
    },
    {
      "cell_type": "code",
      "metadata": {
        "id": "4nNx4WjGuC8A",
        "colab_type": "code",
        "colab": {}
      },
      "source": [
        "# List all genres and the distinct media types in each genre\n",
        "query = \"\"\" \n",
        "        SELECT DISTINCT genres.Name AS Genres_Name, media_types.Name As MediaTypes_Name\n",
        "        FROM tracks\n",
        "        LEFT JOIN media_types ON tracks.MediaTypeId = media_types.MediaTypeId\n",
        "        LEFT JOIN genres ON tracks.GenreId = genres.GenreId\n",
        "        \"\"\"\n",
        "pd.read_sql_query(query, conn)"
      ],
      "execution_count": 33,
      "outputs": [
        {
          "output_type": "execute_result",
          "data": {
            "text/plain": "           Genres_Name              MediaTypes_Name\n0                 Rock              MPEG audio file\n1                 Rock     Protected AAC audio file\n2                 Jazz              MPEG audio file\n3                Metal              MPEG audio file\n4   Alternative & Punk              MPEG audio file\n5        Rock And Roll              MPEG audio file\n6                Blues              MPEG audio file\n7                Latin              MPEG audio file\n8               Reggae              MPEG audio file\n9                  Pop              MPEG audio file\n10          Soundtrack              MPEG audio file\n11          Bossa Nova              MPEG audio file\n12      Easy Listening              MPEG audio file\n13         Heavy Metal              MPEG audio file\n14            R&B/Soul              MPEG audio file\n15   Electronica/Dance              MPEG audio file\n16               World              MPEG audio file\n17         Hip Hop/Rap              MPEG audio file\n18     Science Fiction  Protected MPEG-4 video file\n19            TV Shows  Protected MPEG-4 video file\n20    Sci Fi & Fantasy  Protected MPEG-4 video file\n21               Drama  Protected MPEG-4 video file\n22              Comedy  Protected MPEG-4 video file\n23                 Pop     Protected AAC audio file\n24         Alternative     Purchased AAC audio file\n25                Jazz               AAC audio file\n26               World               AAC audio file\n27   Electronica/Dance               AAC audio file\n28                Rock               AAC audio file\n29               Latin               AAC audio file\n30           Classical               AAC audio file\n31         Alternative     Protected AAC audio file\n32         Alternative  Protected MPEG-4 video file\n33           Classical     Protected AAC audio file\n34           Classical     Purchased AAC audio file\n35               Opera     Protected AAC audio file\n36            R&B/Soul     Protected AAC audio file\n37          Soundtrack     Protected AAC audio file",
            "text/html": "<div>\n<style scoped>\n    .dataframe tbody tr th:only-of-type {\n        vertical-align: middle;\n    }\n\n    .dataframe tbody tr th {\n        vertical-align: top;\n    }\n\n    .dataframe thead th {\n        text-align: right;\n    }\n</style>\n<table border=\"1\" class=\"dataframe\">\n  <thead>\n    <tr style=\"text-align: right;\">\n      <th></th>\n      <th>Genres_Name</th>\n      <th>MediaTypes_Name</th>\n    </tr>\n  </thead>\n  <tbody>\n    <tr>\n      <th>0</th>\n      <td>Rock</td>\n      <td>MPEG audio file</td>\n    </tr>\n    <tr>\n      <th>1</th>\n      <td>Rock</td>\n      <td>Protected AAC audio file</td>\n    </tr>\n    <tr>\n      <th>2</th>\n      <td>Jazz</td>\n      <td>MPEG audio file</td>\n    </tr>\n    <tr>\n      <th>3</th>\n      <td>Metal</td>\n      <td>MPEG audio file</td>\n    </tr>\n    <tr>\n      <th>4</th>\n      <td>Alternative &amp; Punk</td>\n      <td>MPEG audio file</td>\n    </tr>\n    <tr>\n      <th>5</th>\n      <td>Rock And Roll</td>\n      <td>MPEG audio file</td>\n    </tr>\n    <tr>\n      <th>6</th>\n      <td>Blues</td>\n      <td>MPEG audio file</td>\n    </tr>\n    <tr>\n      <th>7</th>\n      <td>Latin</td>\n      <td>MPEG audio file</td>\n    </tr>\n    <tr>\n      <th>8</th>\n      <td>Reggae</td>\n      <td>MPEG audio file</td>\n    </tr>\n    <tr>\n      <th>9</th>\n      <td>Pop</td>\n      <td>MPEG audio file</td>\n    </tr>\n    <tr>\n      <th>10</th>\n      <td>Soundtrack</td>\n      <td>MPEG audio file</td>\n    </tr>\n    <tr>\n      <th>11</th>\n      <td>Bossa Nova</td>\n      <td>MPEG audio file</td>\n    </tr>\n    <tr>\n      <th>12</th>\n      <td>Easy Listening</td>\n      <td>MPEG audio file</td>\n    </tr>\n    <tr>\n      <th>13</th>\n      <td>Heavy Metal</td>\n      <td>MPEG audio file</td>\n    </tr>\n    <tr>\n      <th>14</th>\n      <td>R&amp;B/Soul</td>\n      <td>MPEG audio file</td>\n    </tr>\n    <tr>\n      <th>15</th>\n      <td>Electronica/Dance</td>\n      <td>MPEG audio file</td>\n    </tr>\n    <tr>\n      <th>16</th>\n      <td>World</td>\n      <td>MPEG audio file</td>\n    </tr>\n    <tr>\n      <th>17</th>\n      <td>Hip Hop/Rap</td>\n      <td>MPEG audio file</td>\n    </tr>\n    <tr>\n      <th>18</th>\n      <td>Science Fiction</td>\n      <td>Protected MPEG-4 video file</td>\n    </tr>\n    <tr>\n      <th>19</th>\n      <td>TV Shows</td>\n      <td>Protected MPEG-4 video file</td>\n    </tr>\n    <tr>\n      <th>20</th>\n      <td>Sci Fi &amp; Fantasy</td>\n      <td>Protected MPEG-4 video file</td>\n    </tr>\n    <tr>\n      <th>21</th>\n      <td>Drama</td>\n      <td>Protected MPEG-4 video file</td>\n    </tr>\n    <tr>\n      <th>22</th>\n      <td>Comedy</td>\n      <td>Protected MPEG-4 video file</td>\n    </tr>\n    <tr>\n      <th>23</th>\n      <td>Pop</td>\n      <td>Protected AAC audio file</td>\n    </tr>\n    <tr>\n      <th>24</th>\n      <td>Alternative</td>\n      <td>Purchased AAC audio file</td>\n    </tr>\n    <tr>\n      <th>25</th>\n      <td>Jazz</td>\n      <td>AAC audio file</td>\n    </tr>\n    <tr>\n      <th>26</th>\n      <td>World</td>\n      <td>AAC audio file</td>\n    </tr>\n    <tr>\n      <th>27</th>\n      <td>Electronica/Dance</td>\n      <td>AAC audio file</td>\n    </tr>\n    <tr>\n      <th>28</th>\n      <td>Rock</td>\n      <td>AAC audio file</td>\n    </tr>\n    <tr>\n      <th>29</th>\n      <td>Latin</td>\n      <td>AAC audio file</td>\n    </tr>\n    <tr>\n      <th>30</th>\n      <td>Classical</td>\n      <td>AAC audio file</td>\n    </tr>\n    <tr>\n      <th>31</th>\n      <td>Alternative</td>\n      <td>Protected AAC audio file</td>\n    </tr>\n    <tr>\n      <th>32</th>\n      <td>Alternative</td>\n      <td>Protected MPEG-4 video file</td>\n    </tr>\n    <tr>\n      <th>33</th>\n      <td>Classical</td>\n      <td>Protected AAC audio file</td>\n    </tr>\n    <tr>\n      <th>34</th>\n      <td>Classical</td>\n      <td>Purchased AAC audio file</td>\n    </tr>\n    <tr>\n      <th>35</th>\n      <td>Opera</td>\n      <td>Protected AAC audio file</td>\n    </tr>\n    <tr>\n      <th>36</th>\n      <td>R&amp;B/Soul</td>\n      <td>Protected AAC audio file</td>\n    </tr>\n    <tr>\n      <th>37</th>\n      <td>Soundtrack</td>\n      <td>Protected AAC audio file</td>\n    </tr>\n  </tbody>\n</table>\n</div>"
          },
          "metadata": {},
          "execution_count": 33
        }
      ]
    },
    {
      "cell_type": "markdown",
      "metadata": {
        "id": "xVhmj5x_6xnk",
        "colab_type": "text"
      },
      "source": [
        "### Queries with aggregates\n",
        "\n",
        "SQL also supports the use of aggregate expressions (or functions) that allow you to summarize information about a group of rows of data.\n",
        "\n",
        "Common aggregate functions:\n",
        "\n",
        "| Functions | Description |\n",
        "|:-:|:-:|\n",
        "|**COUNT**(*), **COUNT**(column) | A common function used to counts the number of rows in the group if no column name is specified. Otherwise, count the number of rows in the group with non-NULL values in the specified column.|\n",
        "|**MIN**(column) | Finds the smallest numerical value in the specified column for all rows in the group.|\n",
        "|**MAX**(column) | Finds the largest numerical value in the specified column for all rows in the group.|\n",
        "|**AVG**(column) | Finds the average numerical value in the specified column for all rows in the group.|\n",
        "|**SUM**(column) | Finds the sum of all numerical values in the specified column for the rows in the group.|\n",
        "\n",
        "More docs: [SQLite](http://www.sqlite.org/lang_aggfunc.html), [MySQL](https://dev.mysql.com/doc/refman/5.6/en/group-by-functions.html), [Postgres](http://www.postgresql.org/docs/9.4/static/functions-aggregate.html)\n",
        "\n",
        "In addition to aggregating across all the rows, you can instead apply the aggregate functions to individual groups of data within that group. This would then create as many results as there are unique groups defined as by the  **GROUP BY** clause.\n",
        "\n",
        "```\n",
        "SELECT AGG_FUNC(column_or_expression) AS aggregate_description, …\n",
        "FROM mytable\n",
        "WHERE constraint_expression\n",
        "GROUP BY column;\n",
        "```\n",
        "\n",
        "Our queries are getting fairly complex, but we have nearly introduced all the important parts of a  **SELECT** query. One thing that you might have noticed is that if the **GROUP BY** clause is executed after the **WHERE** clause (which filters the rows which are to be grouped), then how exactly do we filter the grouped rows?\n",
        "\n",
        "Luckily, SQL allows us to do this by adding an additional **HAVING** clause which is used specifically with the **GROUP BY** clause to allow us to filter grouped rows from the result set.\n",
        "\n",
        "```\n",
        "SELECT group_by_column, AGG_FUNC(column_expression) AS aggregate_result_alias, …\n",
        "FROM mytable\n",
        "WHERE condition\n",
        "GROUP BY column\n",
        "HAVING group_condition;\n",
        "```\n"
      ]
    },
    {
      "cell_type": "code",
      "execution_count": 44,
      "metadata": {
        "tags": []
      },
      "outputs": [
        {
          "output_type": "execute_result",
          "data": {
            "text/plain": "   InvoiceLineId  InvoiceId  TrackId  UnitPrice  Quantity\n0              1          1        2       0.99         1\n1              2          1        4       0.99         1\n2              3          2        6       0.99         1\n3              4          2        8       0.99         1\n4              5          2       10       0.99         1",
            "text/html": "<div>\n<style scoped>\n    .dataframe tbody tr th:only-of-type {\n        vertical-align: middle;\n    }\n\n    .dataframe tbody tr th {\n        vertical-align: top;\n    }\n\n    .dataframe thead th {\n        text-align: right;\n    }\n</style>\n<table border=\"1\" class=\"dataframe\">\n  <thead>\n    <tr style=\"text-align: right;\">\n      <th></th>\n      <th>InvoiceLineId</th>\n      <th>InvoiceId</th>\n      <th>TrackId</th>\n      <th>UnitPrice</th>\n      <th>Quantity</th>\n    </tr>\n  </thead>\n  <tbody>\n    <tr>\n      <th>0</th>\n      <td>1</td>\n      <td>1</td>\n      <td>2</td>\n      <td>0.99</td>\n      <td>1</td>\n    </tr>\n    <tr>\n      <th>1</th>\n      <td>2</td>\n      <td>1</td>\n      <td>4</td>\n      <td>0.99</td>\n      <td>1</td>\n    </tr>\n    <tr>\n      <th>2</th>\n      <td>3</td>\n      <td>2</td>\n      <td>6</td>\n      <td>0.99</td>\n      <td>1</td>\n    </tr>\n    <tr>\n      <th>3</th>\n      <td>4</td>\n      <td>2</td>\n      <td>8</td>\n      <td>0.99</td>\n      <td>1</td>\n    </tr>\n    <tr>\n      <th>4</th>\n      <td>5</td>\n      <td>2</td>\n      <td>10</td>\n      <td>0.99</td>\n      <td>1</td>\n    </tr>\n  </tbody>\n</table>\n</div>"
          },
          "metadata": {},
          "execution_count": 44
        }
      ],
      "source": [
        "query = \"\"\" \n",
        "        SELECT * FROM invoice_items LIMIT 5\n",
        "        \"\"\"\n",
        "pd.read_sql_query(query, conn)"
      ]
    },
    {
      "cell_type": "code",
      "metadata": {
        "id": "z3QK3EepBI3H",
        "colab_type": "code",
        "colab": {}
      },
      "source": [
        "query = \"\"\" \n",
        "        SELECT * FROM invoices LIMIT 5\n",
        "        \"\"\"\n",
        "pd.read_sql_query(query, conn)"
      ],
      "execution_count": 43,
      "outputs": [
        {
          "output_type": "execute_result",
          "data": {
            "text/plain": "   InvoiceId  CustomerId          InvoiceDate           BillingAddress  \\\n0          1           2  2009-01-01 00:00:00  Theodor-Heuss-Straße 34   \n1          2           4  2009-01-02 00:00:00         Ullevålsveien 14   \n2          3           8  2009-01-03 00:00:00          Grétrystraat 63   \n3          4          14  2009-01-06 00:00:00           8210 111 ST NW   \n4          5          23  2009-01-11 00:00:00          69 Salem Street   \n\n  BillingCity BillingState BillingCountry BillingPostalCode  Total  \n0   Stuttgart         None        Germany             70174   1.98  \n1        Oslo         None         Norway              0171   3.96  \n2    Brussels         None        Belgium              1000   5.94  \n3    Edmonton           AB         Canada           T6G 2C7   8.91  \n4      Boston           MA            USA              2113  13.86  ",
            "text/html": "<div>\n<style scoped>\n    .dataframe tbody tr th:only-of-type {\n        vertical-align: middle;\n    }\n\n    .dataframe tbody tr th {\n        vertical-align: top;\n    }\n\n    .dataframe thead th {\n        text-align: right;\n    }\n</style>\n<table border=\"1\" class=\"dataframe\">\n  <thead>\n    <tr style=\"text-align: right;\">\n      <th></th>\n      <th>InvoiceId</th>\n      <th>CustomerId</th>\n      <th>InvoiceDate</th>\n      <th>BillingAddress</th>\n      <th>BillingCity</th>\n      <th>BillingState</th>\n      <th>BillingCountry</th>\n      <th>BillingPostalCode</th>\n      <th>Total</th>\n    </tr>\n  </thead>\n  <tbody>\n    <tr>\n      <th>0</th>\n      <td>1</td>\n      <td>2</td>\n      <td>2009-01-01 00:00:00</td>\n      <td>Theodor-Heuss-Straße 34</td>\n      <td>Stuttgart</td>\n      <td>None</td>\n      <td>Germany</td>\n      <td>70174</td>\n      <td>1.98</td>\n    </tr>\n    <tr>\n      <th>1</th>\n      <td>2</td>\n      <td>4</td>\n      <td>2009-01-02 00:00:00</td>\n      <td>Ullevålsveien 14</td>\n      <td>Oslo</td>\n      <td>None</td>\n      <td>Norway</td>\n      <td>0171</td>\n      <td>3.96</td>\n    </tr>\n    <tr>\n      <th>2</th>\n      <td>3</td>\n      <td>8</td>\n      <td>2009-01-03 00:00:00</td>\n      <td>Grétrystraat 63</td>\n      <td>Brussels</td>\n      <td>None</td>\n      <td>Belgium</td>\n      <td>1000</td>\n      <td>5.94</td>\n    </tr>\n    <tr>\n      <th>3</th>\n      <td>4</td>\n      <td>14</td>\n      <td>2009-01-06 00:00:00</td>\n      <td>8210 111 ST NW</td>\n      <td>Edmonton</td>\n      <td>AB</td>\n      <td>Canada</td>\n      <td>T6G 2C7</td>\n      <td>8.91</td>\n    </tr>\n    <tr>\n      <th>4</th>\n      <td>5</td>\n      <td>23</td>\n      <td>2009-01-11 00:00:00</td>\n      <td>69 Salem Street</td>\n      <td>Boston</td>\n      <td>MA</td>\n      <td>USA</td>\n      <td>2113</td>\n      <td>13.86</td>\n    </tr>\n  </tbody>\n</table>\n</div>"
          },
          "metadata": {},
          "execution_count": 43
        }
      ]
    },
    {
      "cell_type": "code",
      "execution_count": 47,
      "metadata": {},
      "outputs": [
        {
          "output_type": "execute_result",
          "data": {
            "text/plain": "   revenue_of_2013\n0               80",
            "text/html": "<div>\n<style scoped>\n    .dataframe tbody tr th:only-of-type {\n        vertical-align: middle;\n    }\n\n    .dataframe tbody tr th {\n        vertical-align: top;\n    }\n\n    .dataframe thead th {\n        text-align: right;\n    }\n</style>\n<table border=\"1\" class=\"dataframe\">\n  <thead>\n    <tr style=\"text-align: right;\">\n      <th></th>\n      <th>revenue_of_2013</th>\n    </tr>\n  </thead>\n  <tbody>\n    <tr>\n      <th>0</th>\n      <td>80</td>\n    </tr>\n  </tbody>\n</table>\n</div>"
          },
          "metadata": {},
          "execution_count": 47
        }
      ],
      "source": [
        "# Find the revenue of 2013\n",
        "query = \"\"\" \n",
        "        SELECT COUNT(Total) AS revenue_of_2013\n",
        "        FROM invoices WHERE InvoiceDate LIKE \"2013%\"\n",
        "        \"\"\"\n",
        "pd.read_sql_query(query, conn)"
      ]
    },
    {
      "cell_type": "code",
      "metadata": {
        "id": "XnlVKXmt1lrb",
        "colab_type": "code",
        "colab": {}
      },
      "source": [
        "# Find the number of tracks belong to the genre Rock\n",
        "query = \"\"\" \n",
        "        SELECT COUNT(tracks.TrackId) AS number_of_tracks_Rock\n",
        "        FROM tracks INNER JOIN genres ON tracks.GenreId = genres.GenreId\n",
        "        WHERE genres.Name = 'Rock'\n",
        "        \"\"\"\n",
        "pd.read_sql_query(query, conn)"
      ],
      "execution_count": 53,
      "outputs": [
        {
          "output_type": "execute_result",
          "data": {
            "text/plain": "   number_of_tracks_Rock\n0                   1297",
            "text/html": "<div>\n<style scoped>\n    .dataframe tbody tr th:only-of-type {\n        vertical-align: middle;\n    }\n\n    .dataframe tbody tr th {\n        vertical-align: top;\n    }\n\n    .dataframe thead th {\n        text-align: right;\n    }\n</style>\n<table border=\"1\" class=\"dataframe\">\n  <thead>\n    <tr style=\"text-align: right;\">\n      <th></th>\n      <th>number_of_tracks_Rock</th>\n    </tr>\n  </thead>\n  <tbody>\n    <tr>\n      <th>0</th>\n      <td>1297</td>\n    </tr>\n  </tbody>\n</table>\n</div>"
          },
          "metadata": {},
          "execution_count": 53
        }
      ]
    },
    {
      "cell_type": "code",
      "metadata": {
        "id": "3XOtPFH8DorX",
        "colab_type": "code",
        "colab": {}
      },
      "source": [
        "# Find the customer who paid the most\n",
        "query = ''' SELECT CustomerId, LastName, FirstName\n",
        "            FROM customers \n",
        "            WHERE CustomerId = (SELECT CustomerId\n",
        "            FROM invoices\n",
        "            GROUP BY CustomerId\n",
        "            HAVING SUM(Total)\n",
        "            ORDER BY SUM(Total) DESC LIMIT 1)\n",
        "            '''\n",
        "pd.read_sql_query(query, conn)"
      ],
      "execution_count": 75,
      "outputs": [
        {
          "output_type": "execute_result",
          "data": {
            "text/plain": "   CustomerId LastName FirstName\n0           6     Holý    Helena",
            "text/html": "<div>\n<style scoped>\n    .dataframe tbody tr th:only-of-type {\n        vertical-align: middle;\n    }\n\n    .dataframe tbody tr th {\n        vertical-align: top;\n    }\n\n    .dataframe thead th {\n        text-align: right;\n    }\n</style>\n<table border=\"1\" class=\"dataframe\">\n  <thead>\n    <tr style=\"text-align: right;\">\n      <th></th>\n      <th>CustomerId</th>\n      <th>LastName</th>\n      <th>FirstName</th>\n    </tr>\n  </thead>\n  <tbody>\n    <tr>\n      <th>0</th>\n      <td>6</td>\n      <td>Holý</td>\n      <td>Helena</td>\n    </tr>\n  </tbody>\n</table>\n</div>"
          },
          "metadata": {},
          "execution_count": 75
        }
      ]
    },
    {
      "cell_type": "code",
      "metadata": {
        "id": "DtMQ5OWpGXN8",
        "colab_type": "code",
        "colab": {}
      },
      "source": [
        "# Find the number of customers each employee has supported\n",
        "query = ''' SELECT SupportRepId, COUNT(CustomerId)\n",
        "            FROM customers\n",
        "            GROUP BY SupportRepId\n",
        "            HAVING COUNT(CustomerId)\n",
        "            '''\n",
        "pd.read_sql_query(query, conn)"
      ],
      "execution_count": 71,
      "outputs": [
        {
          "output_type": "execute_result",
          "data": {
            "text/plain": "   SupportRepId  COUNT(CustomerId)\n0             3                 21\n1             4                 20\n2             5                 18",
            "text/html": "<div>\n<style scoped>\n    .dataframe tbody tr th:only-of-type {\n        vertical-align: middle;\n    }\n\n    .dataframe tbody tr th {\n        vertical-align: top;\n    }\n\n    .dataframe thead th {\n        text-align: right;\n    }\n</style>\n<table border=\"1\" class=\"dataframe\">\n  <thead>\n    <tr style=\"text-align: right;\">\n      <th></th>\n      <th>SupportRepId</th>\n      <th>COUNT(CustomerId)</th>\n    </tr>\n  </thead>\n  <tbody>\n    <tr>\n      <th>0</th>\n      <td>3</td>\n      <td>21</td>\n    </tr>\n    <tr>\n      <th>1</th>\n      <td>4</td>\n      <td>20</td>\n    </tr>\n    <tr>\n      <th>2</th>\n      <td>5</td>\n      <td>18</td>\n    </tr>\n  </tbody>\n</table>\n</div>"
          },
          "metadata": {},
          "execution_count": 71
        }
      ]
    },
    {
      "cell_type": "code",
      "metadata": {
        "id": "qOFdo1XdQyCq",
        "colab_type": "code",
        "colab": {}
      },
      "source": [
        "# Find the richest artist\n",
        "pd.read_sql_query(query, conn)\n",
        "# @_@"
      ],
      "execution_count": null,
      "outputs": []
    }
  ]
}